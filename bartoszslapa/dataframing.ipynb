{
 "metadata": {
  "language_info": {
   "codemirror_mode": {
    "name": "ipython",
    "version": 3
   },
   "file_extension": ".py",
   "mimetype": "text/x-python",
   "name": "python",
   "nbconvert_exporter": "python",
   "pygments_lexer": "ipython3",
   "version": "3.8.8"
  },
  "orig_nbformat": 2,
  "kernelspec": {
   "name": "python388jvsc74a57bd09fe42acf38460646c4da03ab672fdb8622019ca95c2d3e69c12e59c985d45cdc",
   "display_name": "Python 3.8.8 64-bit ('base': conda)"
  }
 },
 "nbformat": 4,
 "nbformat_minor": 2,
 "cells": [
  {
   "source": [
    "Necesary imports"
   ],
   "cell_type": "markdown",
   "metadata": {}
  },
  {
   "cell_type": "code",
   "execution_count": 18,
   "metadata": {},
   "outputs": [],
   "source": [
    "import pandas as pd "
   ]
  },
  {
   "source": [
    "Create example data\n",
    "That's how the data u provide HAVE TO look"
   ],
   "cell_type": "markdown",
   "metadata": {}
  },
  {
   "cell_type": "code",
   "execution_count": 3,
   "metadata": {},
   "outputs": [
    {
     "output_type": "stream",
     "name": "stdout",
     "text": [
      "0              Shawshank\n1         My Little Pony\n2           Transformers\n3    Alice in Wonderland\nName: Movie names, dtype: object\n\n0    0.62\n1    0.98\n2    0.32\n3    0.87\n4    0.51\nName: Rating, dtype: float64\n\n0             Cool stuff about prisons\n1    Violent movie about little horses\n2                           Robots FTW\n3                      She crazy dude!\nName: Description, dtype: object\n"
     ]
    }
   ],
   "source": [
    "m_names = pd.Series(['Shawshank', 'My Little Pony', 'Transformers', 'Alice in Wonderland'], name='Movie names')\n",
    "m_rating_norm = pd.Series([0.62, 0.98, 0.32, 0.87, 0.51], name='Rating')    # this is presented here by me in normalised form\n",
    "m_desc = pd.Series(['Cool stuff about prisons', 'Violent movie about little horses', 'Robots FTW', 'She crazy dude!'], name='Description')\n",
    "print(m_names, m_rating_norm, m_desc, sep='\\n\\n')"
   ]
  },
  {
   "source": [
    "Let's make a bigger dataset"
   ],
   "cell_type": "markdown",
   "metadata": {}
  },
  {
   "cell_type": "code",
   "execution_count": 21,
   "metadata": {},
   "outputs": [],
   "source": [
    "list_of_data = [\n",
    "    m_names,\n",
    "    m_desc,\n",
    "    pd.Series([1998, 2001, 1996, 2013, 2020], name=\"Release Date\"),\n",
    "    pd.Series([\"Spielberg\", \"Polanski\", \"Bay\", \"Snyder\", \"Jon\"], name=\"Director Name\"),\n",
    "    m_rating_norm,\n",
    "    pd.Series([120, 98, 113, 187, 102], name=\"Duration\"),\n",
    "    pd.Series([\"Action, Drama\", \"Action, Sports\", \"Family\", \"Action, Musical, S-F\", \"Animated\"], name=\"Genre\"),\n",
    "    pd.Series([\"Actor1, Actor2\", \"Actor3, Actor2\", \"Actor1, Actor6\",\"Actor1, Actor2, Actor7, Actor8\", \"Actor9\"], name=\"Stars\")\n",
    "]"
   ]
  },
  {
   "source": [
    "Create a dataframe out of it"
   ],
   "cell_type": "markdown",
   "metadata": {}
  },
  {
   "cell_type": "code",
   "execution_count": 5,
   "metadata": {},
   "outputs": [
    {
     "output_type": "execute_result",
     "data": {
      "text/plain": [
       "           Movie names                        Description  Rating\n",
       "0            Shawshank           Cool stuff about prisons    0.62\n",
       "1       My Little Pony  Violent movie about little horses    0.98\n",
       "2         Transformers                         Robots FTW    0.32\n",
       "3  Alice in Wonderland                    She crazy dude!    0.87\n",
       "4                  NaN                                NaN    0.51"
      ],
      "text/html": "<div>\n<style scoped>\n    .dataframe tbody tr th:only-of-type {\n        vertical-align: middle;\n    }\n\n    .dataframe tbody tr th {\n        vertical-align: top;\n    }\n\n    .dataframe thead th {\n        text-align: right;\n    }\n</style>\n<table border=\"1\" class=\"dataframe\">\n  <thead>\n    <tr style=\"text-align: right;\">\n      <th></th>\n      <th>Movie names</th>\n      <th>Description</th>\n      <th>Rating</th>\n    </tr>\n  </thead>\n  <tbody>\n    <tr>\n      <th>0</th>\n      <td>Shawshank</td>\n      <td>Cool stuff about prisons</td>\n      <td>0.62</td>\n    </tr>\n    <tr>\n      <th>1</th>\n      <td>My Little Pony</td>\n      <td>Violent movie about little horses</td>\n      <td>0.98</td>\n    </tr>\n    <tr>\n      <th>2</th>\n      <td>Transformers</td>\n      <td>Robots FTW</td>\n      <td>0.32</td>\n    </tr>\n    <tr>\n      <th>3</th>\n      <td>Alice in Wonderland</td>\n      <td>She crazy dude!</td>\n      <td>0.87</td>\n    </tr>\n    <tr>\n      <th>4</th>\n      <td>NaN</td>\n      <td>NaN</td>\n      <td>0.51</td>\n    </tr>\n  </tbody>\n</table>\n</div>"
     },
     "metadata": {},
     "execution_count": 5
    }
   ],
   "source": [
    "movie_data = pd.DataFrame()\n",
    "movie_data = pd.concat([m_names, m_desc, m_rating_norm], axis=1)\n",
    "movie_data"
   ]
  },
  {
   "source": [
    "Make a nice list of all given data"
   ],
   "cell_type": "markdown",
   "metadata": {}
  },
  {
   "cell_type": "code",
   "execution_count": 6,
   "metadata": {},
   "outputs": [
    {
     "output_type": "execute_result",
     "data": {
      "text/plain": [
       "[0              Shawshank\n",
       " 1         My Little Pony\n",
       " 2           Transformers\n",
       " 3    Alice in Wonderland\n",
       " Name: Movie names, dtype: object,\n",
       " 0             Cool stuff about prisons\n",
       " 1    Violent movie about little horses\n",
       " 2                           Robots FTW\n",
       " 3                      She crazy dude!\n",
       " Name: Description, dtype: object,\n",
       " 0    0.62\n",
       " 1    0.98\n",
       " 2    0.32\n",
       " 3    0.87\n",
       " 4    0.51\n",
       " Name: Rating, dtype: float64]"
      ]
     },
     "metadata": {},
     "execution_count": 6
    }
   ],
   "source": [
    "list_of_all_series = [m_names, m_desc, m_rating_norm]\n",
    "list_of_all_series"
   ]
  },
  {
   "source": [
    "Create a custom function to make a frame out of a list of data"
   ],
   "cell_type": "markdown",
   "metadata": {}
  },
  {
   "cell_type": "code",
   "execution_count": 7,
   "metadata": {},
   "outputs": [],
   "source": [
    "def frame_it(list_of_pd_series):\n",
    "    return pd.concat(list_of_pd_series, axis=1)"
   ]
  },
  {
   "source": [
    "Test the function"
   ],
   "cell_type": "markdown",
   "metadata": {}
  },
  {
   "cell_type": "code",
   "execution_count": 19,
   "metadata": {},
   "outputs": [
    {
     "output_type": "execute_result",
     "data": {
      "text/plain": [
       "           Movie names                        Description  Rating\n",
       "0            Shawshank           Cool stuff about prisons    0.62\n",
       "1       My Little Pony  Violent movie about little horses    0.98\n",
       "2         Transformers                         Robots FTW    0.32\n",
       "3  Alice in Wonderland                    She crazy dude!    0.87\n",
       "4                  NaN                                NaN    0.51"
      ],
      "text/html": "<div>\n<style scoped>\n    .dataframe tbody tr th:only-of-type {\n        vertical-align: middle;\n    }\n\n    .dataframe tbody tr th {\n        vertical-align: top;\n    }\n\n    .dataframe thead th {\n        text-align: right;\n    }\n</style>\n<table border=\"1\" class=\"dataframe\">\n  <thead>\n    <tr style=\"text-align: right;\">\n      <th></th>\n      <th>Movie names</th>\n      <th>Description</th>\n      <th>Rating</th>\n    </tr>\n  </thead>\n  <tbody>\n    <tr>\n      <th>0</th>\n      <td>Shawshank</td>\n      <td>Cool stuff about prisons</td>\n      <td>0.62</td>\n    </tr>\n    <tr>\n      <th>1</th>\n      <td>My Little Pony</td>\n      <td>Violent movie about little horses</td>\n      <td>0.98</td>\n    </tr>\n    <tr>\n      <th>2</th>\n      <td>Transformers</td>\n      <td>Robots FTW</td>\n      <td>0.32</td>\n    </tr>\n    <tr>\n      <th>3</th>\n      <td>Alice in Wonderland</td>\n      <td>She crazy dude!</td>\n      <td>0.87</td>\n    </tr>\n    <tr>\n      <th>4</th>\n      <td>NaN</td>\n      <td>NaN</td>\n      <td>0.51</td>\n    </tr>\n  </tbody>\n</table>\n</div>"
     },
     "metadata": {},
     "execution_count": 19
    }
   ],
   "source": [
    "df = frame_it(list_of_all_series)\n",
    "df"
   ]
  },
  {
   "source": [
    "Let's try to make a plot out of this data, first we need seaborn"
   ],
   "cell_type": "markdown",
   "metadata": {}
  },
  {
   "cell_type": "code",
   "execution_count": 9,
   "metadata": {},
   "outputs": [],
   "source": [
    "import seaborn as sns"
   ]
  },
  {
   "source": [
    "Now let's plot something to see how it works"
   ],
   "cell_type": "markdown",
   "metadata": {}
  },
  {
   "cell_type": "code",
   "execution_count": 22,
   "metadata": {},
   "outputs": [
    {
     "output_type": "execute_result",
     "data": {
      "text/plain": [
       "           Movie names                        Description  Release Date  \\\n",
       "0            Shawshank           Cool stuff about prisons          1998   \n",
       "1       My Little Pony  Violent movie about little horses          2001   \n",
       "2         Transformers                         Robots FTW          1996   \n",
       "3  Alice in Wonderland                    She crazy dude!          2013   \n",
       "4                  NaN                                NaN          2020   \n",
       "\n",
       "  Director Name  Rating  Duration                 Genre  \\\n",
       "0     Spielberg    0.62       120         Action, Drama   \n",
       "1      Polanski    0.98        98        Action, Sports   \n",
       "2           Bay    0.32       113                Family   \n",
       "3        Snyder    0.87       187  Action, Musical, S-F   \n",
       "4           Jon    0.51       102              Animated   \n",
       "\n",
       "                            Stars  \n",
       "0                  Actor1, Actor2  \n",
       "1                  Actor3, Actor2  \n",
       "2                  Actor1, Actor6  \n",
       "3  Actor1, Actor2, Actor7, Actor8  \n",
       "4                          Actor9  "
      ],
      "text/html": "<div>\n<style scoped>\n    .dataframe tbody tr th:only-of-type {\n        vertical-align: middle;\n    }\n\n    .dataframe tbody tr th {\n        vertical-align: top;\n    }\n\n    .dataframe thead th {\n        text-align: right;\n    }\n</style>\n<table border=\"1\" class=\"dataframe\">\n  <thead>\n    <tr style=\"text-align: right;\">\n      <th></th>\n      <th>Movie names</th>\n      <th>Description</th>\n      <th>Release Date</th>\n      <th>Director Name</th>\n      <th>Rating</th>\n      <th>Duration</th>\n      <th>Genre</th>\n      <th>Stars</th>\n    </tr>\n  </thead>\n  <tbody>\n    <tr>\n      <th>0</th>\n      <td>Shawshank</td>\n      <td>Cool stuff about prisons</td>\n      <td>1998</td>\n      <td>Spielberg</td>\n      <td>0.62</td>\n      <td>120</td>\n      <td>Action, Drama</td>\n      <td>Actor1, Actor2</td>\n    </tr>\n    <tr>\n      <th>1</th>\n      <td>My Little Pony</td>\n      <td>Violent movie about little horses</td>\n      <td>2001</td>\n      <td>Polanski</td>\n      <td>0.98</td>\n      <td>98</td>\n      <td>Action, Sports</td>\n      <td>Actor3, Actor2</td>\n    </tr>\n    <tr>\n      <th>2</th>\n      <td>Transformers</td>\n      <td>Robots FTW</td>\n      <td>1996</td>\n      <td>Bay</td>\n      <td>0.32</td>\n      <td>113</td>\n      <td>Family</td>\n      <td>Actor1, Actor6</td>\n    </tr>\n    <tr>\n      <th>3</th>\n      <td>Alice in Wonderland</td>\n      <td>She crazy dude!</td>\n      <td>2013</td>\n      <td>Snyder</td>\n      <td>0.87</td>\n      <td>187</td>\n      <td>Action, Musical, S-F</td>\n      <td>Actor1, Actor2, Actor7, Actor8</td>\n    </tr>\n    <tr>\n      <th>4</th>\n      <td>NaN</td>\n      <td>NaN</td>\n      <td>2020</td>\n      <td>Jon</td>\n      <td>0.51</td>\n      <td>102</td>\n      <td>Animated</td>\n      <td>Actor9</td>\n    </tr>\n  </tbody>\n</table>\n</div>"
     },
     "metadata": {},
     "execution_count": 22
    }
   ],
   "source": [
    "df = frame_it(list_of_data)\n",
    "df"
   ]
  },
  {
   "cell_type": "code",
   "execution_count": 136,
   "metadata": {},
   "outputs": [
    {
     "output_type": "execute_result",
     "data": {
      "text/plain": [
       "           Movie names                        Description  Release Date  \\\n",
       "0            Shawshank           Cool stuff about prisons          1998   \n",
       "1       My Little Pony  Violent movie about little horses          2001   \n",
       "3  Alice in Wonderland                    She crazy dude!          2013   \n",
       "\n",
       "  Director Name  Rating  Duration                 Genre  \\\n",
       "0     Spielberg    0.62       120         Action, Drama   \n",
       "1      Polanski    0.98        98        Action, Sports   \n",
       "3        Snyder    0.87       187  Action, Musical, S-F   \n",
       "\n",
       "                            Stars  \n",
       "0                  Actor1, Actor2  \n",
       "1                  Actor3, Actor2  \n",
       "3  Actor1, Actor2, Actor7, Actor8  "
      ],
      "text/html": "<div>\n<style scoped>\n    .dataframe tbody tr th:only-of-type {\n        vertical-align: middle;\n    }\n\n    .dataframe tbody tr th {\n        vertical-align: top;\n    }\n\n    .dataframe thead th {\n        text-align: right;\n    }\n</style>\n<table border=\"1\" class=\"dataframe\">\n  <thead>\n    <tr style=\"text-align: right;\">\n      <th></th>\n      <th>Movie names</th>\n      <th>Description</th>\n      <th>Release Date</th>\n      <th>Director Name</th>\n      <th>Rating</th>\n      <th>Duration</th>\n      <th>Genre</th>\n      <th>Stars</th>\n    </tr>\n  </thead>\n  <tbody>\n    <tr>\n      <th>0</th>\n      <td>Shawshank</td>\n      <td>Cool stuff about prisons</td>\n      <td>1998</td>\n      <td>Spielberg</td>\n      <td>0.62</td>\n      <td>120</td>\n      <td>Action, Drama</td>\n      <td>Actor1, Actor2</td>\n    </tr>\n    <tr>\n      <th>1</th>\n      <td>My Little Pony</td>\n      <td>Violent movie about little horses</td>\n      <td>2001</td>\n      <td>Polanski</td>\n      <td>0.98</td>\n      <td>98</td>\n      <td>Action, Sports</td>\n      <td>Actor3, Actor2</td>\n    </tr>\n    <tr>\n      <th>3</th>\n      <td>Alice in Wonderland</td>\n      <td>She crazy dude!</td>\n      <td>2013</td>\n      <td>Snyder</td>\n      <td>0.87</td>\n      <td>187</td>\n      <td>Action, Musical, S-F</td>\n      <td>Actor1, Actor2, Actor7, Actor8</td>\n    </tr>\n  </tbody>\n</table>\n</div>"
     },
     "metadata": {},
     "execution_count": 136
    }
   ],
   "source": [
    "# x = [('Action' in genre_str) for genre_str in df.loc[:,'Genre']]\n",
    "# df.loc[x]\n",
    "action_df = df.loc[df['Genre'].str.contains('Action')]\n",
    "action_df"
   ]
  }
 ]
}