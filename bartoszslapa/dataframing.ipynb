{
 "metadata": {
  "language_info": {
   "codemirror_mode": {
    "name": "ipython",
    "version": 3
   },
   "file_extension": ".py",
   "mimetype": "text/x-python",
   "name": "python",
   "nbconvert_exporter": "python",
   "pygments_lexer": "ipython3",
   "version": "3.8.8"
  },
  "orig_nbformat": 2,
  "kernelspec": {
   "name": "python388jvsc74a57bd09fe42acf38460646c4da03ab672fdb8622019ca95c2d3e69c12e59c985d45cdc",
   "display_name": "Python 3.8.8 64-bit ('base': conda)"
  }
 },
 "nbformat": 4,
 "nbformat_minor": 2,
 "cells": [
  {
   "source": [
    "Necesary imports"
   ],
   "cell_type": "markdown",
   "metadata": {}
  },
  {
   "cell_type": "code",
   "execution_count": 63,
   "metadata": {},
   "outputs": [],
   "source": [
    "import pandas as pd "
   ]
  },
  {
   "source": [
    "Create example data\n",
    "That's how the data u provide HAVE TO look"
   ],
   "cell_type": "markdown",
   "metadata": {}
  },
  {
   "cell_type": "code",
   "execution_count": 74,
   "metadata": {},
   "outputs": [
    {
     "output_type": "stream",
     "name": "stdout",
     "text": [
      "0              Shawshank\n1         My Little Pony\n2           Transformers\n3    Alice in Wonderland\nName: Movie names, dtype: object\n\n0    0.62\n1    0.98\n2    0.32\n3    0.87\n4    0.51\nName: Rating, dtype: float64\n\n0            Cool stuff about prisons.\n1    Violent movie about little horses\n2                           Robots FTW\n3                      She crazy dude!\nName: Description, dtype: object\n"
     ]
    }
   ],
   "source": [
    "import pandas as pd\n",
    "m_names = pd.Series(['Shawshank', 'My Little Pony', 'Transformers', 'Alice in Wonderland'], name='Movie names')\n",
    "m_rating_norm = pd.Series([0.62, 0.98, 0.32, 0.87, 0.51], name='Rating')    # this is presented here by me in normalised form\n",
    "m_desc = pd.Series(['Cool stuff about prisons.', 'Violent movie about little horses', 'Robots FTW', 'She crazy dude!'], name='Description')\n",
    "print(m_names, m_rating_norm, m_desc, sep='\\n\\n')"
   ]
  },
  {
   "source": [
    "Create a dataframe out of it"
   ],
   "cell_type": "markdown",
   "metadata": {}
  },
  {
   "cell_type": "code",
   "execution_count": 62,
   "metadata": {},
   "outputs": [
    {
     "output_type": "execute_result",
     "data": {
      "text/plain": [
       "   nums      0    1\n",
       "0     1  name1  3.5\n",
       "1     2  name2  5.7\n",
       "2     3  name3  2.3\n",
       "3     4  name4  1.1\n",
       "4     5  name5  7.0"
      ],
      "text/html": "<div>\n<style scoped>\n    .dataframe tbody tr th:only-of-type {\n        vertical-align: middle;\n    }\n\n    .dataframe tbody tr th {\n        vertical-align: top;\n    }\n\n    .dataframe thead th {\n        text-align: right;\n    }\n</style>\n<table border=\"1\" class=\"dataframe\">\n  <thead>\n    <tr style=\"text-align: right;\">\n      <th></th>\n      <th>nums</th>\n      <th>0</th>\n      <th>1</th>\n    </tr>\n  </thead>\n  <tbody>\n    <tr>\n      <th>0</th>\n      <td>1</td>\n      <td>name1</td>\n      <td>3.5</td>\n    </tr>\n    <tr>\n      <th>1</th>\n      <td>2</td>\n      <td>name2</td>\n      <td>5.7</td>\n    </tr>\n    <tr>\n      <th>2</th>\n      <td>3</td>\n      <td>name3</td>\n      <td>2.3</td>\n    </tr>\n    <tr>\n      <th>3</th>\n      <td>4</td>\n      <td>name4</td>\n      <td>1.1</td>\n    </tr>\n    <tr>\n      <th>4</th>\n      <td>5</td>\n      <td>name5</td>\n      <td>7.0</td>\n    </tr>\n  </tbody>\n</table>\n</div>"
     },
     "metadata": {},
     "execution_count": 62
    }
   ],
   "source": [
    "# TODO"
   ]
  },
  {
   "cell_type": "code",
   "execution_count": null,
   "metadata": {},
   "outputs": [],
   "source": [
    "Create a custom function to make a frame out of a list of data\n",
    "# TODO"
   ]
  }
 ]
}