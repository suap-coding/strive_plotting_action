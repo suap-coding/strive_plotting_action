{
 "metadata": {
  "language_info": {
   "codemirror_mode": {
    "name": "ipython",
    "version": 3
   },
   "file_extension": ".py",
   "mimetype": "text/x-python",
   "name": "python",
   "nbconvert_exporter": "python",
   "pygments_lexer": "ipython3",
   "version": "3.8.8"
  },
  "orig_nbformat": 2,
  "kernelspec": {
   "name": "python388jvsc74a57bd09fe42acf38460646c4da03ab672fdb8622019ca95c2d3e69c12e59c985d45cdc",
   "display_name": "Python 3.8.8 64-bit ('base': conda)"
  }
 },
 "nbformat": 4,
 "nbformat_minor": 2,
 "cells": [
  {
   "cell_type": "code",
   "execution_count": 1,
   "metadata": {},
   "outputs": [],
   "source": [
    "from bs4 import BeautifulSoup\n",
    "import requests\n",
    "import pandas as pd"
   ]
  },
  {
   "cell_type": "code",
   "execution_count": 2,
   "metadata": {},
   "outputs": [],
   "source": [
    "movies1_50 = \"https://www.imdb.com/search/title/?groups=top_100&sort=user_rating,asc\"\n",
    "movies51_100 = \"https://www.imdb.com/search/title/?groups=top_100&sort=user_rating,asc&start=51&ref_=adv_nxt\""
   ]
  },
  {
   "cell_type": "code",
   "execution_count": 3,
   "metadata": {},
   "outputs": [],
   "source": [
    "response = requests.get(movies1_50)\n",
    "soup = BeautifulSoup(response.content, \"html.parser\")\n",
    "# travers through the soup\n",
    "names_soup = soup.find_all(name=\"h3\")"
   ]
  },
  {
   "cell_type": "code",
   "execution_count": 4,
   "metadata": {},
   "outputs": [],
   "source": [
    "# create a list\n",
    "names_list = []"
   ]
  },
  {
   "cell_type": "code",
   "execution_count": 32,
   "metadata": {},
   "outputs": [
    {
     "output_type": "execute_result",
     "data": {
      "text/plain": [
       "'Grobowiec świetlików'"
      ]
     },
     "metadata": {},
     "execution_count": 32
    }
   ],
   "source": [
    "idx = 4\n",
    "\n",
    "names_soup[idx]\n",
    "list(names_soup[idx])\n",
    "list(names_soup[idx])[3]\n",
    "list(names_soup[idx])[3].text\n",
    "\n",
    "# # fill it with first 50\n",
    "# for idx in range(0, len(names_soup)-1):\n",
    "#     names_list.append(list(names_soup[idx])[3].text)"
   ]
  },
  {
   "cell_type": "code",
   "execution_count": null,
   "metadata": {},
   "outputs": [],
   "source": [
    "response = requests.get(movies51_100)\n",
    "soup = BeautifulSoup(response.content, \"html.parser\")\n",
    "# travers through the soup\n",
    "names_soup = soup.find_all(name=\"h3\")"
   ]
  },
  {
   "cell_type": "code",
   "execution_count": 10,
   "metadata": {},
   "outputs": [
    {
     "output_type": "stream",
     "name": "stdout",
     "text": [
      "0                  M - morderca\n1                 Obywatel Kane\n2            Deszczowa piosenka\n3                  Zawrót głowy\n4      Północ - północny zachód\n                 ...           \n195    Dwunastu gniewnych ludzi\n196         Ojciec chrzestny II\n197              Mroczny Rycerz\n198            Ojciec chrzestny\n199        Skazani na Shawshank\nName: Movie name, Length: 200, dtype: object\n"
     ]
    }
   ],
   "source": [
    "# append the next 50\n",
    "for idx in range(0, len(names_soup)-1):\n",
    "    names_list.append(list(names_soup[idx])[3].text)\n",
    "\n",
    "# make a pd.Series of it\n",
    "names_series = pd.Series(names_list, name=\"Movie name\")\n",
    "print(names_series)"
   ]
  }
 ]
}