{
 "metadata": {
  "language_info": {
   "codemirror_mode": {
    "name": "ipython",
    "version": 3
   },
   "file_extension": ".py",
   "mimetype": "text/x-python",
   "name": "python",
   "nbconvert_exporter": "python",
   "pygments_lexer": "ipython3",
   "version": "3.8.10"
  },
  "orig_nbformat": 2,
  "kernelspec": {
   "name": "python3810jvsc74a57bd0f5610a57ce5a66969d95506b8c0c9e3b70160de2f7592df689878f178730b779",
   "display_name": "Python 3.8.10 64-bit ('strive': conda)"
  },
  "metadata": {
   "interpreter": {
    "hash": "fe06f96167c4fc64a78c238d993189072a4e72b444216e36203d6f96126eaf0a"
   }
  }
 },
 "nbformat": 4,
 "nbformat_minor": 2,
 "cells": [
  {
   "cell_type": "code",
   "execution_count": 95,
   "metadata": {},
   "outputs": [
    {
     "output_type": "stream",
     "name": "stdout",
     "text": [
      "Hello World!\n"
     ]
    }
   ],
   "source": [
    "print('Hello World!')"
   ]
  },
  {
   "cell_type": "code",
   "execution_count": 147,
   "metadata": {},
   "outputs": [],
   "source": [
    "import requests\n",
    "import pandas as pd\n",
    "from bs4 import BeautifulSoup\n"
   ]
  },
  {
   "cell_type": "code",
   "execution_count": 148,
   "metadata": {},
   "outputs": [],
   "source": [
    "URL = \"https://www.imdb.com/search/title/?groups=top_100&sort=user_rating,asc\"\n",
    "response = requests.get(URL)\n",
    "soup = BeautifulSoup(response.text,'html.parser')"
   ]
  },
  {
   "cell_type": "code",
   "execution_count": 149,
   "metadata": {},
   "outputs": [
    {
     "output_type": "execute_result",
     "data": {
      "text/plain": [
       "[1931,\n",
       " 1941,\n",
       " 1952,\n",
       " 1958,\n",
       " 1959,\n",
       " 1968,\n",
       " 1981,\n",
       " 1983,\n",
       " 1984,\n",
       " 1986,\n",
       " 1985,\n",
       " 1992,\n",
       " 1995,\n",
       " 1995,\n",
       " 1997,\n",
       " 1999,\n",
       " 2000,\n",
       " 2004,\n",
       " 2009,\n",
       " 2012,\n",
       " 1940,\n",
       " 1950,\n",
       " 1957,\n",
       " 1957,\n",
       " 1964,\n",
       " 1963,\n",
       " 1979,\n",
       " 1979,\n",
       " 1980,\n",
       " 1981,\n",
       " 1984,\n",
       " 1997,\n",
       " 2000,\n",
       " 2003,\n",
       " 2006,\n",
       " 2008,\n",
       " 2007,\n",
       " 2009,\n",
       " 2012,\n",
       " 2012,\n",
       " 2017,\n",
       " 2018,\n",
       " 2019,\n",
       " 2018,\n",
       " 2016,\n",
       " 2019,\n",
       " 2018,\n",
       " 1931,\n",
       " 1936,\n",
       " 1942]"
      ]
     },
     "metadata": {},
     "execution_count": 149
    }
   ],
   "source": [
    "movie_release_dates = soup.findAll('span',class_ = 'lister-item-year text-muted unbold')\n",
    "\n",
    "# create an empty list\n",
    "list_rel_dates = []\n",
    "\n",
    "for str_date in movie_release_dates:\n",
    "\n",
    "    # fix stupid strings\n",
    "    str_date = (str_date.text).replace(\"(\", \"\")\n",
    "    str_date = str_date.replace(\")\", \"\")\n",
    "    str_date = str_date.replace(\"I\",\"\")\n",
    "    str_date = str_date.strip()\n",
    "\n",
    "    # change them into integers\n",
    "    int_date = int(str_date)\n",
    "\n",
    "    # append to our empty list\n",
    "    list_rel_dates.append(int_date)\n",
    "    \n",
    "list_rel_dates"
   ]
  },
  {
   "cell_type": "code",
   "execution_count": 150,
   "metadata": {},
   "outputs": [],
   "source": [
    "# Movie name-T\n",
    "# Description-G\n",
    "# Release Date-S\n",
    "# Director Name-T\n",
    "# Rating-G\n",
    "# Duration-S\n",
    "# Genre-T\n",
    "# Stars (Actors)-G\n",
    "\n",
    "# Filming Dates-S\n",
    "\n",
    "# 1.Release date\n",
    "release_dates = soup.findAll('div',attrs = { \"class\" : 'lister-item-content'} )"
   ]
  },
  {
   "cell_type": "code",
   "execution_count": 151,
   "metadata": {},
   "outputs": [],
   "source": [
    "# release_date = []\n",
    "# for date in release_dates:\n",
    "#     release_date.append(date)\n",
    "# print(relea\n",
    "# se_date)\n",
    "# release_dates"
   ]
  },
  {
   "cell_type": "code",
   "execution_count": 152,
   "metadata": {},
   "outputs": [],
   "source": [
    "runtimes = soup.findAll('span',class_ = \"runtime\")"
   ]
  },
  {
   "cell_type": "code",
   "execution_count": 153,
   "metadata": {},
   "outputs": [
    {
     "output_type": "execute_result",
     "data": {
      "text/plain": [
       "['117 min',\n",
       " '119 min',\n",
       " '103 min',\n",
       " '128 min',\n",
       " '136 min',\n",
       " '149 min',\n",
       " '149 min',\n",
       " '131 min',\n",
       " '160 min',\n",
       " '137 min',\n",
       " '142 min',\n",
       " '99 min',\n",
       " '178 min',\n",
       " '81 min',\n",
       " '126 min',\n",
       " '122 min',\n",
       " '102 min',\n",
       " '108 min',\n",
       " '153 min',\n",
       " '115 min',\n",
       " '125 min',\n",
       " '110 min',\n",
       " '88 min',\n",
       " '116 min',\n",
       " '95 min',\n",
       " '143 min',\n",
       " '117 min',\n",
       " '147 min',\n",
       " '146 min',\n",
       " '115 min',\n",
       " '229 min',\n",
       " '134 min',\n",
       " '113 min',\n",
       " '120 min',\n",
       " '137 min',\n",
       " '98 min',\n",
       " '165 min',\n",
       " '170 min',\n",
       " '164 min',\n",
       " '165 min',\n",
       " '105 min',\n",
       " '149 min',\n",
       " '181 min',\n",
       " '117 min',\n",
       " '106 min',\n",
       " '122 min',\n",
       " '126 min',\n",
       " '87 min',\n",
       " '87 min',\n",
       " '102 min']"
      ]
     },
     "metadata": {},
     "execution_count": 153
    }
   ],
   "source": [
    "movie_runtime = []\n",
    "for runtime in runtimes:\n",
    "    \n",
    "    movie_runtime.append(runtime.text)\n",
    "movie_runtime"
   ]
  },
  {
   "cell_type": "code",
   "execution_count": 134,
   "metadata": {},
   "outputs": [],
   "source": []
  },
  {
   "cell_type": "code",
   "execution_count": 154,
   "metadata": {},
   "outputs": [],
   "source": [
    "\n",
    "action_movies = soup.findAll('p',class_ = \"text-muted\")\n",
    "# action_movies"
   ]
  },
  {
   "cell_type": "code",
   "execution_count": 155,
   "metadata": {},
   "outputs": [],
   "source": [
    "URL1 = \"https://www.imdb.com/search/title/?groups=top_100&sort=user_rating,asc&start=51&ref_=adv_nxt\"\n",
    "\n",
    "response1 = requests.get(URL1)\n",
    "\n",
    "soup1 = BeautifulSoup(response1.text,'html.parser')\n"
   ]
  },
  {
   "cell_type": "code",
   "execution_count": 156,
   "metadata": {},
   "outputs": [
    {
     "output_type": "execute_result",
     "data": {
      "text/plain": [
       "[1954,\n",
       " 1960,\n",
       " 1968,\n",
       " 1985,\n",
       " 1988,\n",
       " 1988,\n",
       " 1991,\n",
       " 1994,\n",
       " 1994,\n",
       " 1995,\n",
       " 1998,\n",
       " 2000,\n",
       " 2002,\n",
       " 2006,\n",
       " 2006,\n",
       " 2011,\n",
       " 2014,\n",
       " 2020,\n",
       " 1946,\n",
       " 1954,\n",
       " 1955,\n",
       " 1962,\n",
       " 1977,\n",
       " 1991,\n",
       " 1995,\n",
       " 1997,\n",
       " 1999,\n",
       " 1998,\n",
       " 2001,\n",
       " 2002,\n",
       " 2014,\n",
       " 2019,\n",
       " 1975,\n",
       " 1980,\n",
       " 1990,\n",
       " 1999,\n",
       " 2002,\n",
       " 1966,\n",
       " 1994,\n",
       " 2001,\n",
       " 1999,\n",
       " 2010,\n",
       " 1993,\n",
       " 1994,\n",
       " 2003,\n",
       " 1957,\n",
       " 1974,\n",
       " 2008,\n",
       " 1972,\n",
       " 1994]"
      ]
     },
     "metadata": {},
     "execution_count": 156
    }
   ],
   "source": [
    "movie_release_dates1 = soup1.findAll('span',class_ = 'lister-item-year text-muted unbold')\n",
    "\n",
    "# create an empty list\n",
    "list_rel_dates1 = []\n",
    "\n",
    "for str_date1 in movie_release_dates1:\n",
    "\n",
    "    # fix stupid strings\n",
    "    str_date1 = (str_date1.text).replace(\"(\", \"\")\n",
    "    str_date1 = str_date1.replace(\")\", \"\")\n",
    "    str_date1 = str_date1.replace(\"I\",\"\")\n",
    "    str_date1 = str_date1.strip()\n",
    "\n",
    "    # change them into integers\n",
    "    int_date1 = int(str_date1)\n",
    "\n",
    "    # append to our empty list\n",
    "    list_rel_dates1.append(int_date1)\n",
    "    \n",
    "list_rel_dates1"
   ]
  },
  {
   "cell_type": "code",
   "execution_count": 157,
   "metadata": {},
   "outputs": [],
   "source": [
    "runtimes1 = soup1.findAll('span',class_ = \"runtime\")"
   ]
  },
  {
   "cell_type": "code",
   "execution_count": 158,
   "metadata": {},
   "outputs": [
    {
     "output_type": "execute_result",
     "data": {
      "text/plain": [
       "['112 min',\n",
       " '109 min',\n",
       " '165 min',\n",
       " '116 min',\n",
       " '89 min',\n",
       " '155 min',\n",
       " '137 min',\n",
       " '88 min',\n",
       " '110 min',\n",
       " '106 min',\n",
       " '119 min',\n",
       " '155 min',\n",
       " '150 min',\n",
       " '151 min',\n",
       " '130 min',\n",
       " '112 min',\n",
       " '106 min',\n",
       " '160 min',\n",
       " '130 min',\n",
       " '207 min',\n",
       " '125 min',\n",
       " '133 min',\n",
       " '121 min',\n",
       " '118 min',\n",
       " '127 min',\n",
       " '116 min',\n",
       " '189 min',\n",
       " '169 min',\n",
       " '125 min',\n",
       " '130 min',\n",
       " '169 min',\n",
       " '132 min',\n",
       " '133 min',\n",
       " '124 min',\n",
       " '146 min',\n",
       " '136 min',\n",
       " '179 min',\n",
       " '161 min',\n",
       " '142 min',\n",
       " '178 min',\n",
       " '139 min',\n",
       " '148 min',\n",
       " '195 min',\n",
       " '154 min',\n",
       " '201 min',\n",
       " '96 min',\n",
       " '202 min',\n",
       " '152 min',\n",
       " '175 min',\n",
       " '142 min']"
      ]
     },
     "metadata": {},
     "execution_count": 158
    }
   ],
   "source": [
    "movie_runtime1 = []\n",
    "for runtime in runtimes1:\n",
    "    \n",
    "    movie_runtime1.append(runtime.text)\n",
    "movie_runtime1"
   ]
  },
  {
   "cell_type": "code",
   "execution_count": 162,
   "metadata": {},
   "outputs": [
    {
     "output_type": "execute_result",
     "data": {
      "text/plain": [
       "0     1931\n",
       "1     1941\n",
       "2     1952\n",
       "3     1958\n",
       "4     1959\n",
       "      ... \n",
       "95    1957\n",
       "96    1974\n",
       "97    2008\n",
       "98    1972\n",
       "99    1994\n",
       "Length: 100, dtype: int64"
      ]
     },
     "metadata": {},
     "execution_count": 162
    }
   ],
   "source": [
    "#Merge 1_50 n 51_100 after change to Series\n",
    "rel_dates = list_rel_dates+list_rel_dates1\n",
    "# rel_dates \n",
    "pd.Series(rel_dates)"
   ]
  },
  {
   "cell_type": "code",
   "execution_count": 160,
   "metadata": {},
   "outputs": [],
   "source": [
    "runtimes = movie_runtime+movie_runtime1"
   ]
  },
  {
   "cell_type": "code",
   "execution_count": 163,
   "metadata": {},
   "outputs": [
    {
     "output_type": "execute_result",
     "data": {
      "text/plain": [
       "0     117 min\n",
       "1     119 min\n",
       "2     103 min\n",
       "3     128 min\n",
       "4     136 min\n",
       "       ...   \n",
       "95     96 min\n",
       "96    202 min\n",
       "97    152 min\n",
       "98    175 min\n",
       "99    142 min\n",
       "Length: 100, dtype: object"
      ]
     },
     "metadata": {},
     "execution_count": 163
    }
   ],
   "source": [
    "runtimes\n",
    "pd.Series(runtimes)"
   ]
  },
  {
   "cell_type": "code",
   "execution_count": null,
   "metadata": {},
   "outputs": [],
   "source": []
  },
  {
   "cell_type": "code",
   "execution_count": null,
   "metadata": {},
   "outputs": [],
   "source": []
  }
 ]
}