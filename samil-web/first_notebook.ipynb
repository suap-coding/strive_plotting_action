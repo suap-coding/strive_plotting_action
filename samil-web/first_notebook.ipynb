{
 "metadata": {
  "language_info": {
   "codemirror_mode": {
    "name": "ipython",
    "version": 3
   },
   "file_extension": ".py",
   "mimetype": "text/x-python",
   "name": "python",
   "nbconvert_exporter": "python",
   "pygments_lexer": "ipython3",
   "version": "3.8.10"
  },
  "orig_nbformat": 2,
  "kernelspec": {
   "name": "python3810jvsc74a57bd0f5610a57ce5a66969d95506b8c0c9e3b70160de2f7592df689878f178730b779",
   "display_name": "Python 3.8.10 64-bit ('strive': conda)"
  },
  "metadata": {
   "interpreter": {
    "hash": "fe06f96167c4fc64a78c238d993189072a4e72b444216e36203d6f96126eaf0a"
   }
  }
 },
 "nbformat": 4,
 "nbformat_minor": 2,
 "cells": [
  {
   "cell_type": "code",
   "execution_count": 95,
   "metadata": {},
   "outputs": [
    {
     "output_type": "stream",
     "name": "stdout",
     "text": [
      "Hello World!\n"
     ]
    }
   ],
   "source": [
    "print('Hello World!')"
   ]
  },
  {
   "cell_type": "code",
   "execution_count": 96,
   "metadata": {},
   "outputs": [],
   "source": [
    "import requests\n",
    "from bs4 import BeautifulSoup\n"
   ]
  },
  {
   "cell_type": "code",
   "execution_count": 97,
   "metadata": {},
   "outputs": [],
   "source": [
    "URL = \"https://www.imdb.com/search/title/?groups=top_100&sort=user_rating,asc\"\n",
    "\n",
    "response = requests.get(URL)\n",
    "\n",
    "soup = BeautifulSoup(response.text,'html.parser')"
   ]
  },
  {
   "cell_type": "code",
   "execution_count": 98,
   "metadata": {},
   "outputs": [
    {
     "output_type": "stream",
     "name": "stdout",
     "text": [
      "(1931)\n(1941)\n(1952)\n(1958)\n(1959)\n(1968)\n(1981)\n(1983)\n(1984)\n(1986)\n(1985)\n(1992)\n(1995)\n(1995)\n(1997)\n(1999)\n(2000)\n(2004)\n(2009)\n(2012)\n(1940)\n(1950)\n(1957)\n(1957)\n(1964)\n(1963)\n(1979)\n(1979)\n(1980)\n(1981)\n(1984)\n(1997)\n(2000)\n(2003)\n(2006)\n(2008)\n(2007)\n(2009)\n(2012)\n(2012)\n(I) (2017)\n(2018)\n(2019)\n(2018)\n(2016)\n(2019)\n(2018)\n(1931)\n(1936)\n(1942)\n"
     ]
    }
   ],
   "source": [
    "# soup\n",
    "movies = soup.findAll('span',class_ = 'lister-item-year text-muted unbold')\n",
    "for movie in movies:\n",
    "    print(movie.text)\n",
    "# movies.findAll('s')\n",
    "# for movie in movies.split('</span>'):\n",
    "        # print(movie)"
   ]
  },
  {
   "cell_type": "code",
   "execution_count": 99,
   "metadata": {},
   "outputs": [],
   "source": [
    "# Movie name-T\n",
    "# Description-G\n",
    "# Release Date-S\n",
    "# Director Name-T\n",
    "# Rating-G\n",
    "# Duration-S\n",
    "# Genre-T\n",
    "# Stars (Actors)-G\n",
    "\n",
    "# Filming Dates-S\n",
    "\n",
    "# 1.Release date\n",
    "release_dates = soup.findAll('div',attrs = { \"class\" : 'lister-item-content'} )"
   ]
  },
  {
   "cell_type": "code",
   "execution_count": 100,
   "metadata": {},
   "outputs": [],
   "source": [
    "# release_date = []\n",
    "# for date in release_dates:\n",
    "#     release_date.append(date)\n",
    "# print(relea\n",
    "# se_date)\n",
    "# release_dates"
   ]
  },
  {
   "cell_type": "code",
   "execution_count": 94,
   "metadata": {},
   "outputs": [],
   "source": [
    "runtimes = soup.findAll('span',class_ = \"runtime\")"
   ]
  },
  {
   "cell_type": "code",
   "execution_count": 101,
   "metadata": {},
   "outputs": [
    {
     "output_type": "stream",
     "name": "stdout",
     "text": [
      "<span class=\"runtime\">117 min</span>\n<span class=\"runtime\">119 min</span>\n<span class=\"runtime\">103 min</span>\n<span class=\"runtime\">128 min</span>\n<span class=\"runtime\">136 min</span>\n<span class=\"runtime\">149 min</span>\n<span class=\"runtime\">149 min</span>\n<span class=\"runtime\">131 min</span>\n<span class=\"runtime\">160 min</span>\n<span class=\"runtime\">137 min</span>\n<span class=\"runtime\">142 min</span>\n<span class=\"runtime\">99 min</span>\n<span class=\"runtime\">178 min</span>\n<span class=\"runtime\">81 min</span>\n<span class=\"runtime\">126 min</span>\n<span class=\"runtime\">122 min</span>\n<span class=\"runtime\">102 min</span>\n<span class=\"runtime\">108 min</span>\n<span class=\"runtime\">153 min</span>\n<span class=\"runtime\">115 min</span>\n<span class=\"runtime\">125 min</span>\n<span class=\"runtime\">110 min</span>\n<span class=\"runtime\">88 min</span>\n<span class=\"runtime\">116 min</span>\n<span class=\"runtime\">95 min</span>\n<span class=\"runtime\">143 min</span>\n<span class=\"runtime\">117 min</span>\n<span class=\"runtime\">147 min</span>\n<span class=\"runtime\">146 min</span>\n<span class=\"runtime\">115 min</span>\n<span class=\"runtime\">229 min</span>\n<span class=\"runtime\">134 min</span>\n<span class=\"runtime\">113 min</span>\n<span class=\"runtime\">120 min</span>\n<span class=\"runtime\">137 min</span>\n<span class=\"runtime\">98 min</span>\n<span class=\"runtime\">165 min</span>\n<span class=\"runtime\">170 min</span>\n<span class=\"runtime\">164 min</span>\n<span class=\"runtime\">165 min</span>\n<span class=\"runtime\">105 min</span>\n<span class=\"runtime\">149 min</span>\n<span class=\"runtime\">181 min</span>\n<span class=\"runtime\">117 min</span>\n<span class=\"runtime\">106 min</span>\n<span class=\"runtime\">122 min</span>\n<span class=\"runtime\">126 min</span>\n<span class=\"runtime\">87 min</span>\n<span class=\"runtime\">87 min</span>\n<span class=\"runtime\">102 min</span>\n"
     ]
    }
   ],
   "source": [
    "for runtime in runtimes:\n",
    "    print(runtime)"
   ]
  },
  {
   "cell_type": "code",
   "execution_count": 86,
   "metadata": {},
   "outputs": [],
   "source": [
    "stars = soup.findAll('p',class_ = \"Directors:\")\n"
   ]
  },
  {
   "cell_type": "code",
   "execution_count": 87,
   "metadata": {},
   "outputs": [
    {
     "output_type": "execute_result",
     "data": {
      "text/plain": [
       "[]"
      ]
     },
     "metadata": {},
     "execution_count": 87
    }
   ],
   "source": [
    "stars"
   ]
  },
  {
   "cell_type": "code",
   "execution_count": null,
   "metadata": {},
   "outputs": [],
   "source": []
  }
 ]
}