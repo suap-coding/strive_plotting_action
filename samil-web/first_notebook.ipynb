{
 "metadata": {
  "language_info": {
   "codemirror_mode": {
    "name": "ipython",
    "version": 3
   },
   "file_extension": ".py",
   "mimetype": "text/x-python",
   "name": "python",
   "nbconvert_exporter": "python",
   "pygments_lexer": "ipython3",
   "version": "3.8.8"
  },
  "orig_nbformat": 2,
  "kernelspec": {
   "name": "python388jvsc74a57bd09fe42acf38460646c4da03ab672fdb8622019ca95c2d3e69c12e59c985d45cdc",
   "display_name": "Python 3.8.8 64-bit ('base': conda)"
  },
  "metadata": {
   "interpreter": {
    "hash": "fe06f96167c4fc64a78c238d993189072a4e72b444216e36203d6f96126eaf0a"
   }
  }
 },
 "nbformat": 4,
 "nbformat_minor": 2,
 "cells": [
  {
   "cell_type": "code",
   "execution_count": 3,
   "metadata": {},
   "outputs": [
    {
     "output_type": "stream",
     "name": "stdout",
     "text": [
      "Hello World!\n"
     ]
    }
   ],
   "source": [
    "print('Hello World!')"
   ]
  },
  {
   "cell_type": "code",
   "execution_count": 4,
   "metadata": {},
   "outputs": [],
   "source": [
    "import requests\n",
    "from bs4 import BeautifulSoup\n"
   ]
  },
  {
   "cell_type": "code",
   "execution_count": 5,
   "metadata": {},
   "outputs": [],
   "source": [
    "URL = \"https://www.imdb.com/search/title/?groups=top_100&sort=user_rating,asc\"\n",
    "\n",
    "response = requests.get(URL)\n",
    "\n",
    "soup = BeautifulSoup(response.text,'html.parser')"
   ]
  },
  {
   "cell_type": "code",
   "execution_count": 26,
   "metadata": {},
   "outputs": [
    {
     "output_type": "execute_result",
     "data": {
      "text/plain": [
       "bs4.element.ResultSet"
      ]
     },
     "metadata": {},
     "execution_count": 26
    }
   ],
   "source": [
    "# soup\n",
    "movie_release_dates = soup.findAll('span',class_ = 'lister-item-year text-muted unbold')\n",
    "# type(movie_release_dates)\n",
    "# for movie in movie_release_dates:\n",
    "#     print(movie.text)\n",
    "# movies.findAll('s')\n",
    "# for movie in movies.split('</span>'):\n",
    "        # print(movie)"
   ]
  },
  {
   "source": [
    "Make a list of movie_release_dates"
   ],
   "cell_type": "markdown",
   "metadata": {}
  },
  {
   "cell_type": "code",
   "execution_count": 53,
   "metadata": {},
   "outputs": [
    {
     "output_type": "execute_result",
     "data": {
      "text/plain": [
       "0     1931\n",
       "1     1941\n",
       "2     1952\n",
       "3     1958\n",
       "4     1959\n",
       "5     1968\n",
       "6     1981\n",
       "7     1983\n",
       "8     1984\n",
       "9     1986\n",
       "10    1985\n",
       "11    1992\n",
       "12    1995\n",
       "13    1995\n",
       "14    1997\n",
       "15    1999\n",
       "16    2000\n",
       "17    2004\n",
       "18    2009\n",
       "19    2012\n",
       "20    1940\n",
       "21    1950\n",
       "22    1957\n",
       "23    1957\n",
       "24    1964\n",
       "25    1963\n",
       "26    1979\n",
       "27    1979\n",
       "28    1980\n",
       "29    1981\n",
       "30    1984\n",
       "31    1997\n",
       "32    2000\n",
       "33    2003\n",
       "34    2006\n",
       "35    2008\n",
       "36    2007\n",
       "37    2009\n",
       "38    2012\n",
       "39    2012\n",
       "40    2017\n",
       "41    2018\n",
       "42    2019\n",
       "43    2018\n",
       "44    2016\n",
       "45    2019\n",
       "46    2018\n",
       "47    1931\n",
       "48    1936\n",
       "49    1942\n",
       "Name: Release date, dtype: int64"
      ]
     },
     "metadata": {},
     "execution_count": 53
    }
   ],
   "source": [
    "list_rel_dates = []\n",
    "\n",
    "for str_date in movie_release_dates:\n",
    "\n",
    "    str_date = (str_date.text).replace(\"(\", \"\")\n",
    "    str_date = str_date.replace(\")\", \"\")\n",
    "    str_date = str_date.replace(\"I\",\"\")\n",
    "    str_date = str_date.strip()\n",
    "\n",
    "    int_date = int(text)\n",
    "\n",
    "    list_rel_dates.append(int_date)\n",
    "\n",
    "rel_dated_series = pd.Series(list_rel_dates, name=\"Release date\")\n",
    "rel_dated_series\n"
   ]
  },
  {
   "cell_type": "code",
   "execution_count": 99,
   "metadata": {},
   "outputs": [],
   "source": [
    "# Movie name-T\n",
    "# Description-G\n",
    "# Release Date-S\n",
    "# Director Name-T\n",
    "# Rating-G\n",
    "# Duration-S\n",
    "# Genre-T\n",
    "# Stars (Actors)-G\n",
    "\n",
    "# Filming Dates-S\n",
    "\n",
    "# 1.Release date\n",
    "release_dates = soup.findAll('div',attrs = { \"class\" : 'lister-item-content'} )"
   ]
  },
  {
   "cell_type": "code",
   "execution_count": 100,
   "metadata": {},
   "outputs": [],
   "source": [
    "# release_date = []\n",
    "# for date in release_dates:\n",
    "#     release_date.append(date)\n",
    "# print(relea\n",
    "# se_date)\n",
    "# release_dates"
   ]
  },
  {
   "cell_type": "code",
   "execution_count": 94,
   "metadata": {},
   "outputs": [],
   "source": [
    "runtimes = soup.findAll('span',class_ = \"runtime\")"
   ]
  },
  {
   "cell_type": "code",
   "execution_count": 101,
   "metadata": {},
   "outputs": [
    {
     "output_type": "stream",
     "name": "stdout",
     "text": [
      "<span class=\"runtime\">117 min</span>\n<span class=\"runtime\">119 min</span>\n<span class=\"runtime\">103 min</span>\n<span class=\"runtime\">128 min</span>\n<span class=\"runtime\">136 min</span>\n<span class=\"runtime\">149 min</span>\n<span class=\"runtime\">149 min</span>\n<span class=\"runtime\">131 min</span>\n<span class=\"runtime\">160 min</span>\n<span class=\"runtime\">137 min</span>\n<span class=\"runtime\">142 min</span>\n<span class=\"runtime\">99 min</span>\n<span class=\"runtime\">178 min</span>\n<span class=\"runtime\">81 min</span>\n<span class=\"runtime\">126 min</span>\n<span class=\"runtime\">122 min</span>\n<span class=\"runtime\">102 min</span>\n<span class=\"runtime\">108 min</span>\n<span class=\"runtime\">153 min</span>\n<span class=\"runtime\">115 min</span>\n<span class=\"runtime\">125 min</span>\n<span class=\"runtime\">110 min</span>\n<span class=\"runtime\">88 min</span>\n<span class=\"runtime\">116 min</span>\n<span class=\"runtime\">95 min</span>\n<span class=\"runtime\">143 min</span>\n<span class=\"runtime\">117 min</span>\n<span class=\"runtime\">147 min</span>\n<span class=\"runtime\">146 min</span>\n<span class=\"runtime\">115 min</span>\n<span class=\"runtime\">229 min</span>\n<span class=\"runtime\">134 min</span>\n<span class=\"runtime\">113 min</span>\n<span class=\"runtime\">120 min</span>\n<span class=\"runtime\">137 min</span>\n<span class=\"runtime\">98 min</span>\n<span class=\"runtime\">165 min</span>\n<span class=\"runtime\">170 min</span>\n<span class=\"runtime\">164 min</span>\n<span class=\"runtime\">165 min</span>\n<span class=\"runtime\">105 min</span>\n<span class=\"runtime\">149 min</span>\n<span class=\"runtime\">181 min</span>\n<span class=\"runtime\">117 min</span>\n<span class=\"runtime\">106 min</span>\n<span class=\"runtime\">122 min</span>\n<span class=\"runtime\">126 min</span>\n<span class=\"runtime\">87 min</span>\n<span class=\"runtime\">87 min</span>\n<span class=\"runtime\">102 min</span>\n"
     ]
    }
   ],
   "source": [
    "for runtime in runtimes:\n",
    "    print(runtime)"
   ]
  },
  {
   "cell_type": "code",
   "execution_count": 86,
   "metadata": {},
   "outputs": [],
   "source": [
    "stars = soup.findAll('p',class_ = \"Directors:\")\n"
   ]
  },
  {
   "cell_type": "code",
   "execution_count": 87,
   "metadata": {},
   "outputs": [
    {
     "output_type": "execute_result",
     "data": {
      "text/plain": [
       "[]"
      ]
     },
     "metadata": {},
     "execution_count": 87
    }
   ],
   "source": [
    "stars"
   ]
  },
  {
   "cell_type": "code",
   "execution_count": null,
   "metadata": {},
   "outputs": [],
   "source": []
  }
 ]
}